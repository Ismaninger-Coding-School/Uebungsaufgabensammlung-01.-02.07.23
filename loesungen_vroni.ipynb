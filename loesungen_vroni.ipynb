{
 "cells": [
  {
   "cell_type": "markdown",
   "metadata": {},
   "source": [
    "## 1. Weihnachtsbaum\n",
    "\n",
    "Lösung mit `for`-Schleife:"
   ]
  },
  {
   "cell_type": "code",
   "execution_count": 3,
   "metadata": {},
   "outputs": [
    {
     "name": "stdout",
     "output_type": "stream",
     "text": [
      "     *\n",
      "    ***\n",
      "   *****\n",
      "  *******\n",
      " *********\n",
      "***********\n"
     ]
    }
   ],
   "source": [
    "zeilen = [1, 2, 3, 4, 5, 6]\n",
    "for i in zeilen:\n",
    "    x = 2 * i - 1\n",
    "    y = 6 - i\n",
    "    print(y * \" \" + x * \"*\")"
   ]
  },
  {
   "cell_type": "markdown",
   "metadata": {},
   "source": [
    "Lösung mit `while`-Schleife:"
   ]
  },
  {
   "cell_type": "code",
   "execution_count": 2,
   "metadata": {},
   "outputs": [
    {
     "name": "stdout",
     "output_type": "stream",
     "text": [
      "     *\n",
      "    ***\n",
      "   *****\n",
      "  *******\n",
      " *********\n",
      "***********\n"
     ]
    }
   ],
   "source": [
    "i = 1\n",
    "while i < 7:\n",
    "    x = 2 * i - 1\n",
    "    y = 6 - i\n",
    "    print(y * \" \" + x * \"*\")\n",
    "    i += 1"
   ]
  },
  {
   "cell_type": "markdown",
   "metadata": {},
   "source": [
    "## 2. Professor Ungerechtmann"
   ]
  },
  {
   "cell_type": "code",
   "execution_count": 10,
   "metadata": {},
   "outputs": [
    {
     "name": "stdout",
     "output_type": "stream",
     "text": [
      "Prüfungsnote (von 1 bis 6 mit Halbpunkten): 3\n",
      "Augenfarbe (dunkel=1, hell=0): 0\n",
      "Frisur (kurze Haare=1, lange Haare=0): 1\n",
      "Wetter (schön=1, nicht schön=0): 0\n",
      "3\n"
     ]
    }
   ],
   "source": [
    "pruefungsnote = int(input(\"Prüfungsnote (von 1 bis 6): \"))\n",
    "augenfarbe = int(input(\"Augenfarbe (dunkel=1, hell=0): \"))\n",
    "frisur = int(input(\"Frisur (kurze Haare=1, lange Haare=0): \"))\n",
    "wetter = int(input(\"Wetter (schön=1, nicht schön=0): \"))\n",
    "\n",
    "\n",
    "if augenfarbe == 0:\n",
    "    if frisur == 1:\n",
    "        pruefungsnote += 0.1*pruefungsnote\n",
    "    else:\n",
    "        pruefungsnote -= 0.1*pruefungsnote\n",
    "if wetter == 1:\n",
    "    pruefungsnote -= 1\n",
    "    \n",
    "abschlussnote = round(pruefungsnote)\n",
    "print(abschlussnote)"
   ]
  },
  {
   "cell_type": "markdown",
   "metadata": {},
   "source": [
    "### Zusatzaufgabe:"
   ]
  },
  {
   "cell_type": "code",
   "execution_count": 16,
   "metadata": {},
   "outputs": [
    {
     "name": "stdout",
     "output_type": "stream",
     "text": [
      "Prüfungsnote (von 1 bis 6): 2\n",
      "Augenfarbe (dunkel=1, hell=0): 1\n",
      "Wetter (schön=1, nicht schön=0): 1\n",
      "Abschlussnote:  1\n"
     ]
    }
   ],
   "source": [
    "pruefungsnote = int(input(\"Prüfungsnote (von 1 bis 6): \"))\n",
    "if pruefungsnote in [1, 2, 3, 4, 5, 6]:\n",
    "    augenfarbe = int(input(\"Augenfarbe (dunkel=1, hell=0): \"))\n",
    "    if augenfarbe in [0, 1]:\n",
    "        if augenfarbe == 0:\n",
    "            frisur = int(input(\"Frisur (kurze Haare=1, lange Haare=0): \"))\n",
    "            if frisur in [0, 1]:\n",
    "                if frisur == 1:\n",
    "                    pruefungsnote += 0.1*pruefungsnote\n",
    "                else:\n",
    "                    pruefungsnote -= 0.1*pruefungsnote\n",
    "                wetter = int(input(\"Wetter (schön=1, nicht schön=0): \"))\n",
    "                if wetter in [0, 1]:\n",
    "                    if wetter == 1:\n",
    "                        pruefungsnote -= 1\n",
    "                    abschlussnote = round(pruefungsnote)\n",
    "                    print(\"Abschlussnote: \", abschlussnote)\n",
    "                else:\n",
    "                    print(\"Ungültiges Wetter!\")\n",
    "            else:\n",
    "                print(\"Ungültige Frisur!\")\n",
    "        elif augenfarbe == 1:\n",
    "            wetter = int(input(\"Wetter (schön=1, nicht schön=0): \"))\n",
    "            if wetter in [0, 1]:\n",
    "                if wetter == 1:\n",
    "                    pruefungsnote -= 1\n",
    "                abschlussnote = round(pruefungsnote)\n",
    "                print(\"Abschlussnote: \", abschlussnote)\n",
    "    else: \n",
    "        print(\"Ungültige Augenfarbe!\")\n",
    "else:\n",
    "    print(\"Ungültige Prüfungsnote!\")"
   ]
  },
  {
   "cell_type": "markdown",
   "metadata": {},
   "source": [
    "## 3. Summe der Quadrate"
   ]
  },
  {
   "cell_type": "code",
   "execution_count": 6,
   "metadata": {},
   "outputs": [
    {
     "name": "stdout",
     "output_type": "stream",
     "text": [
      "Die Summe der Quadrate von a = 2 und b = 3 ist: 13.\n"
     ]
    }
   ],
   "source": [
    "a = 2\n",
    "b = 3\n",
    "c = a*a + b*b  # oder a**2 + b**2\n",
    "print(\"Die Summe der Quadrate von a = \", a, \" und b = \", b, \" ist: \", c, \".\", sep=\"\")"
   ]
  },
  {
   "cell_type": "markdown",
   "metadata": {},
   "source": [
    "## 4. Wer trinkt am meisten Kaffee?"
   ]
  },
  {
   "cell_type": "code",
   "execution_count": 8,
   "metadata": {},
   "outputs": [
    {
     "name": "stdout",
     "output_type": "stream",
     "text": [
      "Name: Feierabend\n",
      "kaffeeliste:  {'Peter': 0, 'Eva': 0, 'Franka': 0}\n"
     ]
    }
   ],
   "source": [
    "kaffeeliste = {\"Peter\": 0, \n",
    "               \"Eva\": 0, \n",
    "               \"Franka\": 0}\n",
    "while True:\n",
    "    name = input(\"Name: \")\n",
    "    if name == \"Feierabend\":\n",
    "        break\n",
    "    if name not in kaffeeliste:\n",
    "        print(\"Diese Person kenne ich nicht!\")\n",
    "        continue\n",
    "    kaffeeliste[name] += 1\n",
    "    print(kaffeeliste[name])\n",
    "    \n",
    "print(\"kaffeeliste: \", kaffeeliste)"
   ]
  },
  {
   "cell_type": "markdown",
   "metadata": {},
   "source": [
    "## 5. Liste zum Aufwärmen"
   ]
  },
  {
   "cell_type": "code",
   "execution_count": 9,
   "metadata": {},
   "outputs": [
    {
     "name": "stdout",
     "output_type": "stream",
     "text": [
      "1 6\n"
     ]
    }
   ],
   "source": [
    "L = [1, 2, 3, 4, 5, 6]\n",
    "erstes = L[0]\n",
    "letztes = L[-1]\n",
    "print(erstes, letztes)"
   ]
  },
  {
   "cell_type": "code",
   "execution_count": null,
   "metadata": {},
   "outputs": [],
   "source": []
  }
 ],
 "metadata": {
  "kernelspec": {
   "display_name": "Python 3",
   "language": "python",
   "name": "python3"
  },
  "language_info": {
   "codemirror_mode": {
    "name": "ipython",
    "version": 3
   },
   "file_extension": ".py",
   "mimetype": "text/x-python",
   "name": "python",
   "nbconvert_exporter": "python",
   "pygments_lexer": "ipython3",
   "version": "3.8.5"
  }
 },
 "nbformat": 4,
 "nbformat_minor": 4
}
