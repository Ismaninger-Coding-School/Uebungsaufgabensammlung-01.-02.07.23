{
 "cells": [
  {
   "cell_type": "markdown",
   "metadata": {},
   "source": [
    "## 1. Weihnachtsbaum\n",
    "\n",
    "Lösung mit `for`-Schleife:"
   ]
  },
  {
   "cell_type": "code",
   "execution_count": 3,
   "metadata": {},
   "outputs": [
    {
     "name": "stdout",
     "output_type": "stream",
     "text": [
      "     *\n",
      "    ***\n",
      "   *****\n",
      "  *******\n",
      " *********\n",
      "***********\n"
     ]
    }
   ],
   "source": [
    "zeilen = [1, 2, 3, 4, 5, 6]\n",
    "for i in zeilen:\n",
    "    x = 2 * i - 1\n",
    "    y = 6 - i\n",
    "    print(y * \" \" + x * \"*\")"
   ]
  },
  {
   "cell_type": "markdown",
   "metadata": {},
   "source": [
    "Lösung mit `while`-Schleife:"
   ]
  },
  {
   "cell_type": "code",
   "execution_count": 2,
   "metadata": {},
   "outputs": [
    {
     "name": "stdout",
     "output_type": "stream",
     "text": [
      "     *\n",
      "    ***\n",
      "   *****\n",
      "  *******\n",
      " *********\n",
      "***********\n"
     ]
    }
   ],
   "source": [
    "i = 1\n",
    "while i < 7:\n",
    "    x = 2 * i - 1\n",
    "    y = 6 - i\n",
    "    print(y * \" \" + x * \"*\")\n",
    "    i += 1"
   ]
  },
  {
   "cell_type": "markdown",
   "metadata": {},
   "source": [
    "## 2. Professor Ungerechtmann"
   ]
  },
  {
   "cell_type": "code",
   "execution_count": null,
   "metadata": {},
   "outputs": [],
   "source": [
    "pruefungsnote = int(input(\"Prüfungsnote (von 1 bis 6 mit Halbpunkten): \"))\n",
    "if (pruefungsnote*10) % 5 == 0 and pruefungsnote >= 1 and pruefungsnote <= 6:  # gültige Eigabewert für die Prüfungsnote\n",
    "    augenfarbe = int(input(\"Augenfarbe des Prüflings (1=dunkel, 0=hell): \"))\n",
    "    if augenfarbe == 1 or augenfarbe == 0: # gültige Eigabewert für die Augenfarbe\n",
    "        frisur = int(input(\"Frisur des Prüflings (1=kurze Haare, 0=lange Haare): \"))\n",
    "        if frisur == 1 or frisur == 0: # gültige Eigabewert für die Frisur\n",
    "            if augenfarbe == 1:\n",
    "                if frisur == 1:\n",
    "                    abschlussnote = pruefungsnote + 0.1*pruefungsnote\n",
    "                else:\n",
    "                    abschlussnote = pruefungsnote - 0.1*pruefungsnote \n",
    "            else:\n",
    "                if frisur == 1:\n",
    "                    abschlussnote = pruefungsnote - 0.1*pruefungsnote\n",
    "                else:\n",
    "                    abschlussnote = pruefungsnote + 0.1*pruefungsnote\n",
    "            wetter = int(input(\"Wetter: (1=schön, 0=nicht schön): \"))\n",
    "            if wetter == 1 or wetter == 0: # gültige Eigabewert für das Wetter\n",
    "                if wetter == 1:\n",
    "                    abschlussnote = abschlussnote - 1\n",
    "            else:\n",
    "                print(\"Fehler: ungültiger Eingabewert für das Wetter!\")        \n",
    "                \n",
    "            if abschlussnote > 6.0:\n",
    "                abschlussnote = 6.0\n",
    "            elif abschlussnote < 1.0:\n",
    "                abschlussnote = 1.0\n",
    "            else:\n",
    "                abschlussnote = round(2.0*abschlussnote)/2                  \n",
    "            print(\"\\nAbschlussnote:\", abschlussnote)\n",
    "        else:\n",
    "            print(\"Fehler: ungültiger Eingabewert für die Frisur!\") \n",
    "    else:\n",
    "        print(\"Fehler: ungültiger Eingabewert für die Augenfarbe!\")\n",
    "else:\n",
    "    print(\"Fehler: ungültige Prüfungsnote!\")"
   ]
  },
  {
   "cell_type": "markdown",
   "metadata": {},
   "source": [
    "## 3. Summe der Quadrate"
   ]
  },
  {
   "cell_type": "code",
   "execution_count": 6,
   "metadata": {},
   "outputs": [
    {
     "name": "stdout",
     "output_type": "stream",
     "text": [
      "Die Summe der Quadrate von a = 2 und b = 3 ist: 13.\n"
     ]
    }
   ],
   "source": [
    "a = 2\n",
    "b = 3\n",
    "c = a*a + b*b  # oder a**2 + b**2\n",
    "print(\"Die Summe der Quadrate von a = \", a, \" und b = \", b, \" ist: \", c, \".\", sep=\"\")"
   ]
  },
  {
   "cell_type": "markdown",
   "metadata": {},
   "source": [
    "## 4. Wer trinkt am meisten Kaffee?"
   ]
  },
  {
   "cell_type": "code",
   "execution_count": 8,
   "metadata": {},
   "outputs": [
    {
     "name": "stdout",
     "output_type": "stream",
     "text": [
      "Name: Feierabend\n",
      "kaffeeliste:  {'Peter': 0, 'Eva': 0, 'Franka': 0}\n"
     ]
    }
   ],
   "source": [
    "kaffeeliste = {\"Peter\": 0, \n",
    "               \"Eva\": 0, \n",
    "               \"Franka\": 0}\n",
    "while True:\n",
    "    name = input(\"Name: \")\n",
    "    if name == \"Feierabend\":\n",
    "        break\n",
    "    if name not in kaffeeliste:\n",
    "        print(\"Diese Person kenne ich nicht!\")\n",
    "        continue\n",
    "    kaffeeliste[name] += 1\n",
    "    print(kaffeeliste[name])\n",
    "    \n",
    "print(\"kaffeeliste: \", kaffeeliste)"
   ]
  },
  {
   "cell_type": "code",
   "execution_count": null,
   "metadata": {},
   "outputs": [],
   "source": []
  }
 ],
 "metadata": {
  "kernelspec": {
   "display_name": "Python 3",
   "language": "python",
   "name": "python3"
  },
  "language_info": {
   "codemirror_mode": {
    "name": "ipython",
    "version": 3
   },
   "file_extension": ".py",
   "mimetype": "text/x-python",
   "name": "python",
   "nbconvert_exporter": "python",
   "pygments_lexer": "ipython3",
   "version": "3.8.5"
  }
 },
 "nbformat": 4,
 "nbformat_minor": 4
}
