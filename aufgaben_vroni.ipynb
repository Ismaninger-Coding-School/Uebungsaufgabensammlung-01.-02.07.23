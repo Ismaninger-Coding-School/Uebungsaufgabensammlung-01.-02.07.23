{
 "cells": [
  {
   "cell_type": "markdown",
   "metadata": {},
   "source": [
    "## 1. Weihnachtsbaum\n",
    "\n",
    "In dieser Aufgabe ist das Ziel, einen Weihnachtsbaum mit Python zu programmieren! So soll das Ergebnis aussehen:"
   ]
  },
  {
   "cell_type": "code",
   "execution_count": null,
   "metadata": {},
   "outputs": [],
   "source": [
    "     *\n",
    "    ***\n",
    "   *****\n",
    "  *******\n",
    " *********\n",
    "***********"
   ]
  },
  {
   "cell_type": "markdown",
   "metadata": {},
   "source": [
    "Wir haben also sechs Zeilen mit einem Stern ganz oben, dann drei darunter, dann fünf, dann sieben, und so weiter. Wie das geht? Mit Schleifen - egal ob `for`- oder `while`-Schleifen! Schreibe hier Dein eigenes Programm, um ein Bild wie oben zu erstellen:"
   ]
  },
  {
   "cell_type": "code",
   "execution_count": null,
   "metadata": {},
   "outputs": [],
   "source": []
  },
  {
   "cell_type": "markdown",
   "metadata": {},
   "source": [
    "## 2. Professor Ungerechtmann\n",
    "\n",
    "Professor Ungerechtmann der Realschule Unfairdorf braucht ein Programm für die Notenvergabe der Abschlussprüfung. Die Abschlussnote hängt von den folgenden Parametern ab:\n",
    "- Prüfungsnote (von 1 bis 6)\n",
    "- Augenfarbe (z.B. dunkel=1, hell=0)\n",
    "- Frisur (z.B. kurze Haare=1, lange Haare=0)\n",
    "- Wetter (z.B. schön=1, nicht schön=0).\n",
    "\n",
    "Der Professor möchte jede dieser Angaben für jeden Prüfling über `input()`-Felder eingeben..\n",
    "\n",
    "Bei der Notenberechung gilt folgendes:\n",
    "\n",
    "\n",
    "- Hat der Prüfling helle Augen und…\n",
    "    - kurze Haare, so wird die Abschlussnote um 10% erhöht (also um 10% verbessert, d. h. aus einer 3 wird eine 2.7).\n",
    "    - lange Haare, so wird die Abschlussnote um 10% reduziert (also um 10% verschlechtert, d. h. aus einer 3 wird eine 3.3).\n",
    "- Ist das Wetter schön, so wird die Abschlussnote um eine Einheit reduziert (also um 1 verbessert, d.h. aus einer 3.5 wird eine 2.5).\n",
    "- Die Abschlussnoten müssen auf ganze Noten gerundet werden (also 1.2 auf 1, 2.6 auf 3, und so weiter).\n",
    "\n",
    "Hinweis 1: Benutze `if...elif...else` um die Bedingungen abzufragen.\n",
    "\n",
    "Hinweis 2: Die Funktion `round()` rundet auf ganze Noten, z.B. `round(5.4) = 5`."
   ]
  },
  {
   "cell_type": "code",
   "execution_count": null,
   "metadata": {},
   "outputs": [],
   "source": []
  },
  {
   "cell_type": "markdown",
   "metadata": {},
   "source": [
    "### Zusatzaufgabe:\n",
    "\n",
    "Verändere Dein Programm so, dass die Eingaben des Professors auf Gültigkeit überprüft werden. Zum Beispiel soll eine Warnung ausgegeben werden, wenn bei der Frage nach der Prüfungsnote eine `8` eingegeben wird, und das Programm soll abbrechen.\n",
    "\n",
    "Hinweis: Der Aufruf `if x in [...]:` überprüft, ob die Variable `x` in der Liste `[...]` enthalten ist."
   ]
  },
  {
   "cell_type": "code",
   "execution_count": null,
   "metadata": {},
   "outputs": [],
   "source": []
  },
  {
   "cell_type": "markdown",
   "metadata": {},
   "source": [
    "## 3. Summe der Quadrate\n",
    "\n",
    "Schreibe einen Code, der für zwei gegebene Zahlen a und b die Summe der Quadrate von a und b ausgibt. Die Werte der Variablen a und b kannst du selbst aussuchen. Die Lösung soll in einem Satz stehen, zum Beispiel:\n",
    "\n",
    "`Die Summe der Quadrate von a = 2 und b = 3 ist 13.`\n",
    "\n",
    "Hinweis: die Funktion `print()` hat einen Parameter `sep`. Mit ihm kannst Du bestimmen, wie die verschiedenen Satzbausteine voneinander getrennt werden. Beispiele:\n",
    "\n",
    "`print(\"Ich bin\", \"Nina\", sep=\"*\")` gibt Dir `Ich bin*Nina` aus.\n",
    "\n",
    "`print(\"Ich bin\", \"Nina\", sep=\"\")` gibt Dir `Ich binNina` aus."
   ]
  },
  {
   "cell_type": "code",
   "execution_count": null,
   "metadata": {},
   "outputs": [],
   "source": []
  },
  {
   "cell_type": "markdown",
   "metadata": {},
   "source": [
    "## 4. Wer trinkt am meisten Kaffee?\n",
    "\n",
    "Peter, Eva und Franka arbeiten auf einer Polizeiwache. Sie haben oft bis spät nachts mit ihren Fällen zu tun und brauchen deshalb ganz viel Kaffee! Nun wollen sie aber ein gerechtes System entwickeln, mit dem entschieden wird, wer die Kaffeemaschine als nächstes reinigt. Sie finden, am fairsten ist es, wenn das die Person macht, die die meisten Tassen Kaffee getrunken hat. Um da den Überblick zu behalten, wollen sie mit Python einen Kaffeetassen-Zähler erstellen. Kannst Du ihnen helfen?\n",
    "\n",
    "Erstelle ein Dictionary, das ihren Namen die Anzahl der getrunkenen Tassen zuordnet. Dann starte das Programm über eine `while`-Schleife, das immer den Namen der Person abfragt (mit einem `input()`-Feld), die gerade eine Tasse Kaffee getrunken hat und die Anzahl bei dieser Person erhöht.\n",
    "\n",
    "Das Programm soll Bescheid sagen, wenn es eine Person nicht kennt, die in das `input()`-Feld eingetragen wurde.\n",
    "\n",
    "Das Programm soll enden, sobald man in das `input()`-Feld `Feierabend` eingibt.\n",
    "\n",
    "Am Schluss soll das Programm das Dictionary mit dem aktuellen Kaffeetassen-Stand ausgeben.\n",
    "\n",
    "Hinweis: `while`-Schleifen können mit dem Befehl `break` gestoppt werden. Der Befehl `continue` sorgt dafür, dass der Rest des Codes innerhalb der Schleife übersprungen wird und wieder am Anfang der Schleife begonnen wird. Als Beispiel kannst Du dieses Programm mal ausprobieren:"
   ]
  },
  {
   "cell_type": "code",
   "execution_count": 2,
   "metadata": {},
   "outputs": [
    {
     "name": "stdout",
     "output_type": "stream",
     "text": [
      "Weiter? J/N/egal egal\n",
      "Ok wenn es dir egal ist, machen wir halt weiter!\n",
      "Weiter? J/N/egal N\n"
     ]
    }
   ],
   "source": [
    "while True:\n",
    "    inp = input(\"Weiter? J/N/egal \")\n",
    "    if inp == \"J\":\n",
    "        continue\n",
    "    if inp == \"N\":\n",
    "        break\n",
    "    print(\"Ok wenn es dir egal ist, machen wir halt weiter!\")"
   ]
  },
  {
   "cell_type": "markdown",
   "metadata": {},
   "source": [
    "Hier kannst Du nun Deinen Kaffeezähler programmieren:"
   ]
  },
  {
   "cell_type": "code",
   "execution_count": null,
   "metadata": {},
   "outputs": [],
   "source": []
  },
  {
   "cell_type": "markdown",
   "metadata": {},
   "source": [
    "## 5. Liste zum Aufwärmen\n",
    "\n",
    "Schreibe ein Programm, welches das erste und letzte Zeichen dieser Liste ausgibt: `L = [1, 2, 3, 4, 5, 6]`"
   ]
  },
  {
   "cell_type": "code",
   "execution_count": null,
   "metadata": {},
   "outputs": [],
   "source": []
  }
 ],
 "metadata": {
  "kernelspec": {
   "display_name": "Python 3",
   "language": "python",
   "name": "python3"
  },
  "language_info": {
   "codemirror_mode": {
    "name": "ipython",
    "version": 3
   },
   "file_extension": ".py",
   "mimetype": "text/x-python",
   "name": "python",
   "nbconvert_exporter": "python",
   "pygments_lexer": "ipython3",
   "version": "3.8.5"
  }
 },
 "nbformat": 4,
 "nbformat_minor": 4
}
