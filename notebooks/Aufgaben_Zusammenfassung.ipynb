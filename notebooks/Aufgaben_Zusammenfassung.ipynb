{
 "cells": [
  {
   "cell_type": "markdown",
   "metadata": {},
   "source": [
    "Aufgaben-Reihenfolge (nach Schwierigkeit):\n",
    "- Summe berechnen\n",
    "- Summe der Quadrate\n",
    "- Liste zum Aufwärmen\n",
    "- Index finden\n",
    "- Fehlende Zahl\n",
    "- dein eigenere Maximierer\n",
    "- größte differenz\n",
    "- Weihnachtsbaum\n",
    "- Das Bauernhofproblem\n",
    "- Spitznamengenerator\n",
    "- Lenas Koffer\n",
    "- Professor Ungerechtmann\n",
    "- Wer trinkt am meisten Kaffee?\n",
    "- Welches Tier bist du?"
   ]
  },
  {
   "cell_type": "markdown",
   "metadata": {},
   "source": [
    "## 1. Summe berechnen\n",
    "\n",
    "Schreibe eine Funktion, die drei Zahlen als Parameter entgegen nimmt, ihre Summe berechnet und diese ausgibt."
   ]
  },
  {
   "cell_type": "code",
   "execution_count": null,
   "metadata": {},
   "outputs": [],
   "source": []
  },
  {
   "cell_type": "markdown",
   "metadata": {},
   "source": [
    "## 2. Summe der Quadrate\n",
    "\n",
    "Schreibe einen Code, der für zwei gegebene Zahlen a und b die Summe der Quadrate von a und b ausgibt. Die Werte der Variablen a und b kannst du selbst aussuchen. Die Lösung soll in einem Satz stehen, zum Beispiel:\n",
    "\n",
    "`Die Summe der Quadrate von a = 2 und b = 3 ist 13.`\n",
    "\n",
    "Hinweis: die Funktion `print()` hat einen Parameter `sep`. Mit ihm kannst Du bestimmen, wie die verschiedenen Satzbausteine voneinander getrennt werden. Beispiele:\n",
    "\n",
    "`print(\"Ich bin\", \"Nina\", sep=\"*\")` gibt Dir `Ich bin*Nina` aus.\n",
    "\n",
    "`print(\"Ich bin\", \"Nina\", sep=\"\")` gibt Dir `Ich binNina` aus."
   ]
  },
  {
   "cell_type": "code",
   "execution_count": null,
   "metadata": {},
   "outputs": [],
   "source": []
  },
  {
   "cell_type": "markdown",
   "metadata": {},
   "source": [
    "## 3. Liste zum Aufwärmen\n",
    "\n",
    "Schreibe ein Programm, welches das erste und letzte Zeichen dieser Liste ausgibt: `L = [1, 2, 3, 4, 5, 6]`"
   ]
  },
  {
   "cell_type": "code",
   "execution_count": null,
   "metadata": {},
   "outputs": [],
   "source": []
  },
  {
   "cell_type": "markdown",
   "metadata": {},
   "source": [
    "Nun soll die Liste ab dem dritten Element ausgegeben werden, also `[3, 4, 5, 6]`."
   ]
  },
  {
   "cell_type": "code",
   "execution_count": null,
   "metadata": {},
   "outputs": [],
   "source": []
  },
  {
   "cell_type": "markdown",
   "metadata": {},
   "source": [
    "## 4. Index finden\n",
    "\n",
    "Schreibe eine Funktion, die eine Liste mit Zahlen und eine einzelne Zahl als Argumente entgegennimmt. Gib dann den Index (also die Position der Zahl in der Liste) aus. Überlege dir dir selbst, was du ausgeben willst, sollte die Zahl nicht in der Liste sein.\n",
    "\n",
    "Beispiel: `index([9, 8, 1, 4, 2, 5], 8) → 1`"
   ]
  },
  {
   "cell_type": "code",
   "execution_count": null,
   "metadata": {},
   "outputs": [],
   "source": []
  },
  {
   "cell_type": "markdown",
   "metadata": {},
   "source": [
    "## 5. Fehlende Zahl \n",
    "\n",
    "Schreibe eine Funktion, die eine Liste von Zahlen zwischen 1 und 10 annimmt. Eine Zahl zwischen 1 und 10 fehlt in der Liste. Die Funktion soll die fehlende Zahl zurückgeben.\n",
    "\n",
    "Beispiel: `fehlende_zahl([9, 8, 1, 4, 6, 7, 10, 2, 5]) → 3`"
   ]
  },
  {
   "cell_type": "code",
   "execution_count": null,
   "metadata": {},
   "outputs": [],
   "source": []
  },
  {
   "cell_type": "markdown",
   "metadata": {},
   "source": [
    "## 6. Dein eigener Maximierer\n",
    "\n",
    "In Python gibt es eine eingebaute Funktion `max()`, mit der Du aus einer Liste das größte Element herausfinden kannst. Probiere diese Funktion mal mit der Liste `MeineListe = [15, 26, 7, 55, 204, 7, 96]` aus:"
   ]
  },
  {
   "cell_type": "code",
   "execution_count": null,
   "metadata": {},
   "outputs": [],
   "source": []
  },
  {
   "cell_type": "markdown",
   "metadata": {},
   "source": [
    "Nun schauen wir hinter die Kulissen und wollen unseren eigenen Maximierer programmieren. Schreibe eine Funktion namens `MeinMax()`, mit der Du ebenfalls das größte Element aus Listen wie `MeineListe` herausfinden kannst:"
   ]
  },
  {
   "cell_type": "code",
   "execution_count": null,
   "metadata": {},
   "outputs": [],
   "source": []
  },
  {
   "cell_type": "markdown",
   "metadata": {},
   "source": [
    "### Zusatzaufgabe: \n",
    "\n",
    "`MeinMax()` funktioniert natürlich nur, wenn alle Elemente in Deiner Liste Zahlen sind. Verändere Deine Funktion so, dass sie an geeigneter Stelle überprüft, ob alle Elemente Deiner Liste Zahlen sind.\n",
    "\n",
    "Hinweis: Den Datentyp einer Variable `x` kannst Du mit `type(x)` abfragen. Ganze Zahlen haben den Typ `int`, Dezimalzahlen den Typ `float`. Ob Du nur ganze Zahlen, nur Dezimalzahlen oder sogar beides erlaubst, darfst Du dir aussuchen."
   ]
  },
  {
   "cell_type": "code",
   "execution_count": null,
   "metadata": {},
   "outputs": [],
   "source": []
  },
  {
   "cell_type": "markdown",
   "metadata": {},
   "source": [
    "## 7. Größte Differenz\n",
    "\n",
    "Schreibe eine Funktion, die eine Liste an Zahlen entgegennimmt. Die Funktion soll die Differenz zwischen der größten und der kleinsten Zahl zurückgeben. \n",
    "Tipp: Differenz bedeutet minus rechnen. Die Differenz zwischen 7 und 3 ist also 7-3=4.\n",
    "\n",
    "Beispiel: `groesste_differenz([1, 2, 3, 4]) → 3` (Weil die größte Zahl 4 ist und die kleinste Zahl 1 und 4-1=3)"
   ]
  },
  {
   "cell_type": "code",
   "execution_count": null,
   "metadata": {},
   "outputs": [],
   "source": []
  },
  {
   "cell_type": "markdown",
   "metadata": {},
   "source": [
    "## 8. Weihnachtsbaum\n",
    "\n",
    "In dieser Aufgabe ist das Ziel, einen Weihnachtsbaum mit Python zu programmieren! So soll das Ergebnis aussehen:"
   ]
  },
  {
   "cell_type": "code",
   "execution_count": null,
   "metadata": {},
   "outputs": [],
   "source": [
    "     *\n",
    "    ***\n",
    "   *****\n",
    "  *******\n",
    " *********\n",
    "***********"
   ]
  },
  {
   "cell_type": "markdown",
   "metadata": {},
   "source": [
    "Wir haben also sechs Zeilen mit einem Stern ganz oben, dann drei darunter, dann fünf, dann sieben, und so weiter. Wie das geht? Mit Schleifen - egal ob `for`- oder `while`-Schleifen! Schreibe hier Dein eigenes Programm, um ein Bild wie oben zu erstellen:"
   ]
  },
  {
   "cell_type": "code",
   "execution_count": null,
   "metadata": {},
   "outputs": [],
   "source": []
  },
  {
   "cell_type": "markdown",
   "metadata": {},
   "source": [
    "## 9. Das Bauernhofproblem\n",
    "\n",
    "In dieser Aufgabe bittet dich ein Bauer, ihm zu sagen, wie viele Beine alle seine Tiere haben. Der Bauer züchtet drei Arten:\n",
    "\n",
    "- Hühner = 2 Beine\n",
    "- Kühe = 4 Beine\n",
    "- Schweine = 4 Beine\n",
    "\n",
    "Schreibe eine Funktion, die als erstes Argument die Anzahl der Hühner, als zweites Argument die Anzahl der Kühe und als drittes Argument die Anzahl der Schweine entgegennimmt. Die Funktion soll die Gesamtanzahl der Beine auf dem Bauernhof zurückgeben."
   ]
  },
  {
   "cell_type": "code",
   "execution_count": null,
   "metadata": {},
   "outputs": [],
   "source": []
  },
  {
   "cell_type": "markdown",
   "metadata": {},
   "source": [
    "## 10. Spitznamengenerator\n",
    "\n",
    "Schreibe ein Programm, welches den Nutzer nach seinem Vor- und Nachnamen fragt. Dann generiere einen zufälligen Spitznamen für die Person und gib den neuen Namen folgendermaßen aus: \\<Vorname\\> \\<Spitzname\\> \\<Nachname\\>\n",
    "\n",
    "Tipps: Denk dir vorher 5-10 Spitznamen aus und speichere diese in einer Liste. Speichere Vor- und Nachname in zwei unterschiedlichen Variablen. Bevor du nach dem Namen fragst, erkläre den Nutzern das Spiel."
   ]
  },
  {
   "cell_type": "code",
   "execution_count": null,
   "metadata": {},
   "outputs": [],
   "source": []
  },
  {
   "cell_type": "markdown",
   "metadata": {},
   "source": [
    "## 11. Lenas Koffer\n",
    "\n",
    "Lena fährt in den Urlaub und packt dabei sehr viel, aber auch sehr sorgfältig. Sie möchte am Urlaubsort nicht lange nach etwas bestimmten suchen, sondern sofort wissen, wo sie was verstaut hat. Dafür hat sie sich ein System ausgedacht: sie erstellt ein Dictionary, in welchem jeder Key für einen ihrer Koffer oder eine ihrer Taschen steht, und als jeweiligen Wert speichert sie eine Liste der Dinge, die sich in diesem Koffer/dieser Tasche befinden. Folgende Koffer und Taschen hat sie bepackt:\n",
    "\n",
    "- blauer Koffer: rotes T-Shirt, grünes Kleid, blaue Jeans, schwarze Stoffhose\n",
    "- kleiner Koffer: Wanderschuhe, Sonnenhut\n",
    "- Stofftasche: Wasserflasche, Sonnenbrille, Regenschirm\n",
    "- Ledertasche: Zahnbürste, Unterhosen, Haarbürste\n",
    "\n",
    "Erstelle Lenas Dictionary und schreibe eine Funktion, mit dem sie herausfinden kann, ob sie einen bestimmten Gegenstand überhaupt dabei hat und wenn ja, wo er sich befindet!"
   ]
  },
  {
   "cell_type": "code",
   "execution_count": null,
   "metadata": {},
   "outputs": [],
   "source": []
  },
  {
   "cell_type": "markdown",
   "metadata": {},
   "source": [
    "## 12. Professor Ungerechtmann\n",
    "\n",
    "Professor Ungerechtmann der Realschule Unfairdorf braucht ein Programm für die Notenvergabe der Abschlussprüfung. Die Abschlussnote hängt von den folgenden Parametern ab:\n",
    "- Prüfungsnote (von 1 bis 6)\n",
    "- Augenfarbe (z.B. dunkel=1, hell=0)\n",
    "- Frisur (z.B. kurze Haare=1, lange Haare=0)\n",
    "- Wetter (z.B. schön=1, nicht schön=0).\n",
    "\n",
    "Der Professor möchte jede dieser Angaben für jeden Prüfling über `input()`-Felder eingeben..\n",
    "\n",
    "Bei der Notenberechung gilt folgendes:\n",
    "\n",
    "\n",
    "- Hat der Prüfling helle Augen und…\n",
    "    - kurze Haare, so wird die Abschlussnote um 10% erhöht (also um 10% verbessert, d. h. aus einer 3 wird eine 2.7).\n",
    "    - lange Haare, so wird die Abschlussnote um 10% reduziert (also um 10% verschlechtert, d. h. aus einer 3 wird eine 3.3).\n",
    "- Ist das Wetter schön, so wird die Abschlussnote um eine Einheit reduziert (also um 1 verbessert, d.h. aus einer 3.5 wird eine 2.5).\n",
    "- Die Abschlussnoten müssen auf ganze Noten gerundet werden (also 1.2 auf 1, 2.6 auf 3, und so weiter).\n",
    "\n",
    "Hinweis 1: Benutze `if...elif...else` um die Bedingungen abzufragen.\n",
    "\n",
    "Hinweis 2: Die Funktion `round()` rundet auf ganze Noten, z.B. `round(5.4) = 5`."
   ]
  },
  {
   "cell_type": "code",
   "execution_count": null,
   "metadata": {},
   "outputs": [],
   "source": []
  },
  {
   "cell_type": "markdown",
   "metadata": {},
   "source": [
    "### Zusatzaufgabe:\n",
    "\n",
    "Verändere Dein Programm so, dass die Eingaben des Professors auf Gültigkeit überprüft werden. Zum Beispiel soll eine Warnung ausgegeben werden, wenn bei der Frage nach der Prüfungsnote eine `8` eingegeben wird, und das Programm soll abbrechen.\n",
    "\n",
    "Hinweis: Der Aufruf `if x in [...]:` überprüft, ob die Variable `x` in der Liste `[...]` enthalten ist."
   ]
  },
  {
   "cell_type": "code",
   "execution_count": null,
   "metadata": {},
   "outputs": [],
   "source": []
  },
  {
   "cell_type": "markdown",
   "metadata": {},
   "source": [
    "## 13. Wer trinkt am meisten Kaffee?\n",
    "\n",
    "Peter, Eva und Franka arbeiten auf einer Polizeiwache. Sie haben oft bis spät nachts mit ihren Fällen zu tun und brauchen deshalb ganz viel Kaffee! Nun wollen sie aber ein gerechtes System entwickeln, mit dem entschieden wird, wer die Kaffeemaschine als nächstes reinigt. Sie finden, am fairsten ist es, wenn das die Person macht, die die meisten Tassen Kaffee getrunken hat. Um da den Überblick zu behalten, wollen sie mit Python einen Kaffeetassen-Zähler erstellen. Kannst Du ihnen helfen?\n",
    "\n",
    "Erstelle ein Dictionary, das ihren Namen die Anzahl der getrunkenen Tassen zuordnet. Dann starte das Programm über eine `while`-Schleife, das immer den Namen der Person abfragt (mit einem `input()`-Feld), die gerade eine Tasse Kaffee getrunken hat und die Anzahl bei dieser Person erhöht.\n",
    "\n",
    "Das Programm soll Bescheid sagen, wenn es eine Person nicht kennt, die in das `input()`-Feld eingetragen wurde.\n",
    "\n",
    "Das Programm soll enden, sobald man in das `input()`-Feld `Feierabend` eingibt.\n",
    "\n",
    "Am Schluss soll das Programm das Dictionary mit dem aktuellen Kaffeetassen-Stand ausgeben.\n",
    "\n",
    "Hinweis: Schleifen können mit dem Befehl `break` gestoppt werden. Der Befehl `continue` sorgt dafür, dass der Rest des Codes innerhalb der Schleife übersprungen wird und wieder am Anfang der Schleife begonnen wird. Als Beispiel kannst Du dieses Programm mal ausprobieren:"
   ]
  },
  {
   "cell_type": "code",
   "execution_count": null,
   "metadata": {},
   "outputs": [],
   "source": []
  },
  {
   "cell_type": "markdown",
   "metadata": {},
   "source": [
    "Hier kannst Du nun Deinen Kaffeezähler programmieren:"
   ]
  },
  {
   "cell_type": "code",
   "execution_count": null,
   "metadata": {},
   "outputs": [],
   "source": []
  },
  {
   "cell_type": "markdown",
   "metadata": {},
   "source": [
    "## 14. Welches Tier bist du?\n",
    "\n",
    "Programmiere ein Quiz, bei dem ein Nutzer herausfinden kann, welches Tier er ist. Das Quiz soll eine Reihe an Fragen stellen, wobei jede Frage vier mögliche Antworten hat und jede Antwort mit einem Tier verbunden sein soll. Am Ende des Quiz soll das Programm das Tier mit den meisten Punkten ausgeben. \n",
    "\n",
    "Erstelle dafür ein dictionary, bei dem die Schlüssel die Tiere sind, die du dir ausdenkst. Die Werte sind die Punkte; diese müssen am Anfang natürlich null sein. Bei jeder Antwort, die ein Nutzer gibt, wird einer dieser Werte um eins erhöht, abhängig davon zu welchem Tier die Antwort des Nutzers gehört. Du kannst dir gerne selbst Tiere ausdenken. Falls dir nichts einfällt, kannst du Löwe, Affe, Giraffe und Bär nehmen.\n",
    "\n",
    "Jetzt, da wir unser Punktzahl-Dictionary erstellt haben, ist es Zeit, die Fragen und Antworten zu erstellen. Denk dir Fragen und Antworten aus, die etwas mit den Tieren zu tun haben. Auch hier ist es hilfreich ein dictionary zu verwenden. Beispiel: \n",
    "\n",
    "Welches Essen würdest du bevorzugen?\n",
    "\n",
    "0 : Fleisch -> Löwe\\\n",
    "1 : Obst -> Affe\\\n",
    "2 : Gräser und Blätter -> Giraffe\\\n",
    "3 : Alles Essbare -> Bär\n"
   ]
  },
  {
   "cell_type": "code",
   "execution_count": null,
   "metadata": {},
   "outputs": [],
   "source": []
  }
 ],
 "metadata": {
  "kernelspec": {
   "display_name": "Python 3",
   "language": "python",
   "name": "python3"
  },
  "language_info": {
   "codemirror_mode": {
    "name": "ipython",
    "version": 3
   },
   "file_extension": ".py",
   "mimetype": "text/x-python",
   "name": "python",
   "nbconvert_exporter": "python",
   "pygments_lexer": "ipython3",
   "version": "3.8.5"
  }
 },
 "nbformat": 4,
 "nbformat_minor": 4
}
