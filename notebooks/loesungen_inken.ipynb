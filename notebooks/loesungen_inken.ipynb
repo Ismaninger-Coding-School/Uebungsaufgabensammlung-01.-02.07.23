{
 "cells": [
  {
   "cell_type": "markdown",
   "id": "2f00c1b1",
   "metadata": {},
   "source": [
    "## 1. Summe berechnen"
   ]
  },
  {
   "cell_type": "code",
   "execution_count": 1,
   "id": "0959d7ef",
   "metadata": {},
   "outputs": [],
   "source": [
    "def summe(a, b, c):\n",
    "    print(a + b + c)"
   ]
  },
  {
   "cell_type": "markdown",
   "id": "6c092ca0",
   "metadata": {},
   "source": [
    "## 2. Index finden"
   ]
  },
  {
   "cell_type": "code",
   "execution_count": 2,
   "id": "c991c653",
   "metadata": {},
   "outputs": [
    {
     "name": "stdout",
     "output_type": "stream",
     "text": [
      "1\n",
      "Zahl ist nicht in der Liste!\n"
     ]
    }
   ],
   "source": [
    "def index(liste, gesuchte_zahl):\n",
    "    for i, zahl in enumerate(liste):\n",
    "        if zahl == gesuchte_zahl:\n",
    "            return i \n",
    "    print(\"Zahl ist nicht in der Liste!\")\n",
    "    \n",
    "print(index([1, 2, 3, 4], 2))\n",
    "index([1, 2, 3, 4], 5)"
   ]
  },
  {
   "cell_type": "markdown",
   "id": "d7752f20",
   "metadata": {},
   "source": [
    "## 3. Spitznamengenerator"
   ]
  },
  {
   "cell_type": "code",
   "execution_count": 3,
   "id": "f4224746",
   "metadata": {},
   "outputs": [
    {
     "name": "stdout",
     "output_type": "stream",
     "text": [
      "Bitte gib deinen Vornamen ein: Inken\n",
      "Bitte gib deinen Nachnamen ein: Grüner\n",
      "Dein neuer Name ist Inken Pizzagesicht Grüner\n"
     ]
    }
   ],
   "source": [
    "import random \n",
    "\n",
    "spitznamen = [\"Boomer\", \"Kiddo\", \"Pizzagesicht\", \"Tollpatsch\"] \n",
    "vorname = input(\"Bitte gib deinen Vornamen ein: \")\n",
    "nachname = input(\"Bitte gib deinen Nachnamen ein: \")\n",
    "\n",
    "zufallszahl = random.randint(0, 3)\n",
    "\n",
    "spitzname = spitznamen[zufallszahl]\n",
    "\n",
    "print(\"Dein neuer Name ist\", vorname, spitzname, nachname)"
   ]
  },
  {
   "cell_type": "markdown",
   "id": "7364c064",
   "metadata": {},
   "source": [
    "## 4. Fehlende Zahl "
   ]
  },
  {
   "cell_type": "code",
   "execution_count": 4,
   "id": "519c2383",
   "metadata": {},
   "outputs": [
    {
     "name": "stdout",
     "output_type": "stream",
     "text": [
      "3\n"
     ]
    }
   ],
   "source": [
    "def fehlende_zahl(zahlenliste):\n",
    "    summe1 = sum(range(11))\n",
    "    summe2 = sum(zahlenliste)\n",
    "    return summe1-summe2\n",
    "    \n",
    "    \n",
    "print(fehlende_zahl([9, 8, 1, 4, 6, 7, 10, 2, 5]))"
   ]
  },
  {
   "cell_type": "markdown",
   "id": "c533e326",
   "metadata": {},
   "source": [
    "## 5. Das Bauernhofproblem"
   ]
  },
  {
   "cell_type": "code",
   "execution_count": 5,
   "id": "520081db",
   "metadata": {},
   "outputs": [
    {
     "name": "stdout",
     "output_type": "stream",
     "text": [
      "10\n"
     ]
    }
   ],
   "source": [
    "def anzahl_beine(huehner, kuehe, schweine):\n",
    "    return huehner*2 + kuehe*4 + schweine*4\n",
    "    \n",
    "print(anzahl_beine(1, 1, 1))"
   ]
  },
  {
   "cell_type": "markdown",
   "id": "5cc4b143",
   "metadata": {},
   "source": [
    "## 6. Größte Differenz"
   ]
  },
  {
   "cell_type": "code",
   "execution_count": 6,
   "id": "0bf97124",
   "metadata": {},
   "outputs": [
    {
     "name": "stdout",
     "output_type": "stream",
     "text": [
      "3\n"
     ]
    }
   ],
   "source": [
    "def groesste_differenz(zahlenliste):\n",
    "    maxi = zahlenliste[0]\n",
    "    mini = zahlenliste[0]\n",
    "    \n",
    "    for zahl in zahlenliste:\n",
    "        if zahl > maxi:\n",
    "            maxi = zahl\n",
    "        if zahl < mini:\n",
    "            mini = zahl\n",
    "    return maxi-mini  \n",
    "\n",
    "print(groesste_differenz([1, 2, 3, 4]))"
   ]
  }
 ],
 "metadata": {
  "kernelspec": {
   "display_name": "Python 3 (ipykernel)",
   "language": "python",
   "name": "python3"
  },
  "language_info": {
   "codemirror_mode": {
    "name": "ipython",
    "version": 3
   },
   "file_extension": ".py",
   "mimetype": "text/x-python",
   "name": "python",
   "nbconvert_exporter": "python",
   "pygments_lexer": "ipython3",
   "version": "3.11.4"
  }
 },
 "nbformat": 4,
 "nbformat_minor": 5
}
