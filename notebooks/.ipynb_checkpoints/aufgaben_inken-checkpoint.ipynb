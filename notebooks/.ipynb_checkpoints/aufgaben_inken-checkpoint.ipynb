{
 "cells": [
  {
   "cell_type": "markdown",
   "id": "e4ca2431",
   "metadata": {},
   "source": [
    "## 1. Summe berechnen\n",
    "\n",
    "Schreibe eine Funktion, die drei Zahlen als Parameter entgegen nimmt, ihre Summe berechnet und diese ausgibt."
   ]
  },
  {
   "cell_type": "code",
   "execution_count": null,
   "id": "d4c1e85c",
   "metadata": {},
   "outputs": [],
   "source": []
  },
  {
   "cell_type": "markdown",
   "id": "3e67c5c5",
   "metadata": {},
   "source": [
    "## 2. Spitznamen Generator\n",
    "\n",
    "Schreibe ein Programm, welches den Nutzer nach seinem Vor- und Nachnamen fragt. Dann generiert einen zufälligen Spitznamen für die Person und gib den neuen Namen folgendermaßen aus: <<Vorname>> <Spitzname> <Nachname>\n",
    "\n",
    "Tipps: Denkt euch vorher 5-10 Spitznamen aus und speichert diese in einer Liste. Speichert Vor- und Nachname in zwei unterschiedlichen Variablen. Bevor ihr nach dem Namen fragt, erklärt dem Nutzern das Spiel."
   ]
  },
  {
   "cell_type": "code",
   "execution_count": null,
   "id": "a3a89608",
   "metadata": {},
   "outputs": [],
   "source": []
  },
  {
   "cell_type": "code",
   "execution_count": null,
   "id": "01366f03",
   "metadata": {},
   "outputs": [],
   "source": []
  },
  {
   "cell_type": "code",
   "execution_count": null,
   "id": "6129f424",
   "metadata": {},
   "outputs": [],
   "source": []
  },
  {
   "cell_type": "code",
   "execution_count": null,
   "id": "0dde1459",
   "metadata": {},
   "outputs": [],
   "source": []
  }
 ],
 "metadata": {
  "kernelspec": {
   "display_name": "Python 3 (ipykernel)",
   "language": "python",
   "name": "python3"
  },
  "language_info": {
   "codemirror_mode": {
    "name": "ipython",
    "version": 3
   },
   "file_extension": ".py",
   "mimetype": "text/x-python",
   "name": "python",
   "nbconvert_exporter": "python",
   "pygments_lexer": "ipython3",
   "version": "3.11.4"
  }
 },
 "nbformat": 4,
 "nbformat_minor": 5
}
