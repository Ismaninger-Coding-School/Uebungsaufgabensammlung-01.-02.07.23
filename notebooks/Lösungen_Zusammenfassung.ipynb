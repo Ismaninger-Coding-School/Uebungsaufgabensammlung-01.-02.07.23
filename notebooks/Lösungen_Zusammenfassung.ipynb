{
 "cells": [
  {
   "cell_type": "markdown",
   "metadata": {},
   "source": [
    "Lösungen - Aufgaben-Reihenfolge:\n",
    "- Summe berechnen\n",
    "- Summe der Quadrate\n",
    "- Liste zum Aufwärmen\n",
    "- Index finden\n",
    "- Fehlende Zahl\n",
    "- dein eigenere Maximierer\n",
    "- größte differenz\n",
    "- Weihnachtsbaum\n",
    "- Das Bauernhofproblem\n",
    "- Spitznamengenerator\n",
    "- Lenas Koffer\n",
    "- Professor Ungerechtmann\n",
    "- Wer trinkt am meisten Kaffee?\n",
    "- Welches Tier bist du?"
   ]
  },
  {
   "cell_type": "markdown",
   "metadata": {},
   "source": [
    "## 1. Summe berechnen"
   ]
  },
  {
   "cell_type": "code",
   "execution_count": 1,
   "metadata": {},
   "outputs": [],
   "source": [
    "def summe(a, b, c):\n",
    "    print(a + b + c)"
   ]
  },
  {
   "cell_type": "markdown",
   "metadata": {},
   "source": [
    "## 2. Summe der Quadrate"
   ]
  },
  {
   "cell_type": "code",
   "execution_count": 2,
   "metadata": {},
   "outputs": [
    {
     "name": "stdout",
     "output_type": "stream",
     "text": [
      "Die Summe der Quadrate von a = 2 und b = 3 ist: 13.\n"
     ]
    }
   ],
   "source": [
    "a = 2\n",
    "b = 3\n",
    "c = a*a + b*b  # oder a**2 + b**2\n",
    "print(\"Die Summe der Quadrate von a = \", a, \" und b = \", b, \" ist: \", c, \".\", sep=\"\")"
   ]
  },
  {
   "cell_type": "markdown",
   "metadata": {},
   "source": [
    "## 3. Liste zum Aufwärmen"
   ]
  },
  {
   "cell_type": "code",
   "execution_count": 17,
   "metadata": {},
   "outputs": [
    {
     "name": "stdout",
     "output_type": "stream",
     "text": [
      "1 6\n"
     ]
    }
   ],
   "source": [
    "L = [1, 2, 3, 4, 5, 6]\n",
    "erstes = L[0]\n",
    "letztes = L[-1]\n",
    "print(erstes, letztes)"
   ]
  },
  {
   "cell_type": "markdown",
   "metadata": {},
   "source": [
    "Teil 2:"
   ]
  },
  {
   "cell_type": "code",
   "execution_count": 18,
   "metadata": {},
   "outputs": [
    {
     "name": "stdout",
     "output_type": "stream",
     "text": [
      "[3, 4, 5, 6]\n"
     ]
    }
   ],
   "source": [
    "print(L[2:])"
   ]
  },
  {
   "cell_type": "markdown",
   "metadata": {},
   "source": [
    "## 4. Index finden"
   ]
  },
  {
   "cell_type": "code",
   "execution_count": 4,
   "metadata": {},
   "outputs": [
    {
     "name": "stdout",
     "output_type": "stream",
     "text": [
      "1\n",
      "Zahl ist nicht in der Liste!\n"
     ]
    }
   ],
   "source": [
    "def index(liste, gesuchte_zahl):\n",
    "    for i, zahl in enumerate(liste):\n",
    "        if zahl == gesuchte_zahl:\n",
    "            return i \n",
    "    print(\"Zahl ist nicht in der Liste!\")\n",
    "    \n",
    "print(index([1, 2, 3, 4], 2))\n",
    "index([1, 2, 3, 4], 5)"
   ]
  },
  {
   "cell_type": "markdown",
   "metadata": {},
   "source": [
    "## 5. Fehlende Zahl"
   ]
  },
  {
   "cell_type": "code",
   "execution_count": 5,
   "metadata": {},
   "outputs": [
    {
     "name": "stdout",
     "output_type": "stream",
     "text": [
      "3\n"
     ]
    }
   ],
   "source": [
    "def fehlende_zahl(zahlenliste):\n",
    "    summe1 = sum(range(11))\n",
    "    summe2 = sum(zahlenliste)\n",
    "    return summe1-summe2\n",
    "    \n",
    "    \n",
    "print(fehlende_zahl([9, 8, 1, 4, 6, 7, 10, 2, 5]))"
   ]
  },
  {
   "cell_type": "markdown",
   "metadata": {},
   "source": [
    "## 6. Dein eigener Maximierer"
   ]
  },
  {
   "cell_type": "code",
   "execution_count": 7,
   "metadata": {},
   "outputs": [],
   "source": [
    "def MeinMax(a):\n",
    "    res = a[0]\n",
    "    for val in a[1:]:\n",
    "        if val > res:\n",
    "            res = val\n",
    "    return res"
   ]
  },
  {
   "cell_type": "markdown",
   "metadata": {},
   "source": [
    "### Zusatzaufgabe:"
   ]
  },
  {
   "cell_type": "code",
   "execution_count": 8,
   "metadata": {},
   "outputs": [
    {
     "name": "stdout",
     "output_type": "stream",
     "text": [
      "Ungültige Liste!\n"
     ]
    },
    {
     "data": {
      "text/plain": [
       "1"
      ]
     },
     "execution_count": 8,
     "metadata": {},
     "output_type": "execute_result"
    }
   ],
   "source": [
    "def MeinMax(a):\n",
    "    if type(a[0]) is int:  # float geht auch\n",
    "        res = a[0]\n",
    "        for val in a[1:]:\n",
    "            if val is int:\n",
    "                if val > res:\n",
    "                    res = val\n",
    "            else: \n",
    "                print(\"Ungültige Liste!\")\n",
    "                break\n",
    "        return res\n",
    "    else:\n",
    "        print(\"Ungültige Liste!\")\n",
    "        \n",
    "MeinMax([1, 1.4, 24])"
   ]
  },
  {
   "cell_type": "markdown",
   "metadata": {},
   "source": [
    "## 7. Größte Differenz"
   ]
  },
  {
   "cell_type": "code",
   "execution_count": 9,
   "metadata": {},
   "outputs": [
    {
     "name": "stdout",
     "output_type": "stream",
     "text": [
      "3\n"
     ]
    }
   ],
   "source": [
    "def groesste_differenz(zahlenliste):\n",
    "    maxi = zahlenliste[0]\n",
    "    mini = zahlenliste[0]\n",
    "    \n",
    "    for zahl in zahlenliste:\n",
    "        if zahl > maxi:\n",
    "            maxi = zahl\n",
    "        if zahl < mini:\n",
    "            mini = zahl\n",
    "    return maxi-mini  \n",
    "\n",
    "print(groesste_differenz([1, 2, 3, 4]))"
   ]
  },
  {
   "cell_type": "markdown",
   "metadata": {},
   "source": [
    "## 8. Weihnachtsbaum"
   ]
  },
  {
   "cell_type": "code",
   "execution_count": 10,
   "metadata": {},
   "outputs": [
    {
     "name": "stdout",
     "output_type": "stream",
     "text": [
      "     *\n",
      "    ***\n",
      "   *****\n",
      "  *******\n",
      " *********\n",
      "***********\n",
      "     *\n",
      "    ***\n",
      "   *****\n",
      "  *******\n",
      " *********\n",
      "***********\n"
     ]
    }
   ],
   "source": [
    "# Lösung mit for\n",
    "zeilen = [1, 2, 3, 4, 5, 6]\n",
    "for i in zeilen:\n",
    "    x = 2 * i - 1\n",
    "    y = 6 - i\n",
    "    print(y * \" \" + x * \"*\")\n",
    "    \n",
    "    \n",
    "# Lösung mit while\n",
    "i = 1\n",
    "while i < 7:\n",
    "    x = 2 * i - 1\n",
    "    y = 6 - i\n",
    "    print(y * \" \" + x * \"*\")\n",
    "    i += 1"
   ]
  },
  {
   "cell_type": "markdown",
   "metadata": {},
   "source": [
    "## 9. Das Bauernhofproblem"
   ]
  },
  {
   "cell_type": "code",
   "execution_count": 11,
   "metadata": {},
   "outputs": [
    {
     "name": "stdout",
     "output_type": "stream",
     "text": [
      "10\n"
     ]
    }
   ],
   "source": [
    "def anzahl_beine(huehner, kuehe, schweine):\n",
    "    return huehner*2 + kuehe*4 + schweine*4\n",
    "    \n",
    "print(anzahl_beine(1, 1, 1))"
   ]
  },
  {
   "cell_type": "markdown",
   "metadata": {},
   "source": [
    "## 10. Spitznamengenerator"
   ]
  },
  {
   "cell_type": "code",
   "execution_count": 12,
   "metadata": {},
   "outputs": [
    {
     "name": "stdout",
     "output_type": "stream",
     "text": [
      "Bitte gib deinen Vornamen ein: Veronika\n",
      "Bitte gib deinen Nachnamen ein: Hofmann\n",
      "Dein neuer Name ist Veronika Kiddo Hofmann\n"
     ]
    }
   ],
   "source": [
    "import random \n",
    "\n",
    "spitznamen = [\"Boomer\", \"Kiddo\", \"Pizzagesicht\", \"Tollpatsch\"] \n",
    "vorname = input(\"Bitte gib deinen Vornamen ein: \")\n",
    "nachname = input(\"Bitte gib deinen Nachnamen ein: \")\n",
    "\n",
    "zufallszahl = random.randint(0, 3)\n",
    "\n",
    "spitzname = spitznamen[zufallszahl]\n",
    "\n",
    "print(\"Dein neuer Name ist\", vorname, spitzname, nachname)"
   ]
  },
  {
   "cell_type": "markdown",
   "metadata": {},
   "source": [
    "## 11. Lenas Koffer"
   ]
  },
  {
   "cell_type": "code",
   "execution_count": 13,
   "metadata": {},
   "outputs": [
    {
     "name": "stdout",
     "output_type": "stream",
     "text": [
      "Lena hat Schwimmbrille wohl zuhause vergessen...\n"
     ]
    }
   ],
   "source": [
    "Lena = dict()\n",
    "\n",
    "Lena['blauer Koffer'] = ['rotes T-Shirt', 'grünes Kleid', 'blaue Jeans', 'schwarze Stoffhose']\n",
    "Lena['kleiner Koffer'] = ['Wanderschuhe', 'Sonnenhut']\n",
    "Lena['Stofftasche'] = ['Wasserflasche', 'Sonnenbrille', 'Regenschirm']\n",
    "Lena['Ledertasche'] = ['Zahnbürste', 'Unterhosen', 'Haarbürste']\n",
    "\n",
    "def wo_ist(ding):\n",
    "    gefunden = False\n",
    "    for tasche in Lena.keys():\n",
    "        if ding in Lena[tasche]:\n",
    "            gefunden = True\n",
    "    if gefunden is True:\n",
    "        print('Gefunden!', ding, 'ist in', tasche, '.')\n",
    "    else:\n",
    "        print('Lena hat', ding, 'wohl zuhause vergessen...')\n",
    "        \n",
    "wo_ist('Schwimmbrille')"
   ]
  },
  {
   "cell_type": "markdown",
   "metadata": {},
   "source": [
    "## 12. Professor Ungerechtmann"
   ]
  },
  {
   "cell_type": "code",
   "execution_count": 14,
   "metadata": {},
   "outputs": [
    {
     "name": "stdout",
     "output_type": "stream",
     "text": [
      "Prüfungsnote (von 1 bis 6): 4\n",
      "Augenfarbe (dunkel=1, hell=0): 1\n",
      "Frisur (kurze Haare=1, lange Haare=0): 0\n",
      "Wetter (schön=1, nicht schön=0): 1\n",
      "3\n"
     ]
    }
   ],
   "source": [
    "pruefungsnote = int(input(\"Prüfungsnote (von 1 bis 6): \"))\n",
    "augenfarbe = int(input(\"Augenfarbe (dunkel=1, hell=0): \"))\n",
    "frisur = int(input(\"Frisur (kurze Haare=1, lange Haare=0): \"))\n",
    "wetter = int(input(\"Wetter (schön=1, nicht schön=0): \"))\n",
    "\n",
    "\n",
    "if augenfarbe == 0:\n",
    "    if frisur == 1:\n",
    "        pruefungsnote += 0.1*pruefungsnote\n",
    "    else:\n",
    "        pruefungsnote -= 0.1*pruefungsnote\n",
    "if wetter == 1:\n",
    "    pruefungsnote -= 1\n",
    "    \n",
    "abschlussnote = round(pruefungsnote)\n",
    "print(abschlussnote)"
   ]
  },
  {
   "cell_type": "markdown",
   "metadata": {},
   "source": [
    "### Zusatzaufgabe:"
   ]
  },
  {
   "cell_type": "code",
   "execution_count": 15,
   "metadata": {},
   "outputs": [
    {
     "name": "stdout",
     "output_type": "stream",
     "text": [
      "Prüfungsnote (von 1 bis 6): 4\n",
      "Augenfarbe (dunkel=1, hell=0): 12\n",
      "Ungültige Augenfarbe!\n"
     ]
    }
   ],
   "source": [
    "pruefungsnote = int(input(\"Prüfungsnote (von 1 bis 6): \"))\n",
    "if pruefungsnote in [1, 2, 3, 4, 5, 6]:\n",
    "    augenfarbe = int(input(\"Augenfarbe (dunkel=1, hell=0): \"))\n",
    "    if augenfarbe in [0, 1]:\n",
    "        if augenfarbe == 0:\n",
    "            frisur = int(input(\"Frisur (kurze Haare=1, lange Haare=0): \"))\n",
    "            if frisur in [0, 1]:\n",
    "                if frisur == 1:\n",
    "                    pruefungsnote += 0.1*pruefungsnote\n",
    "                else:\n",
    "                    pruefungsnote -= 0.1*pruefungsnote\n",
    "                wetter = int(input(\"Wetter (schön=1, nicht schön=0): \"))\n",
    "                if wetter in [0, 1]:\n",
    "                    if wetter == 1:\n",
    "                        pruefungsnote -= 1\n",
    "                    abschlussnote = round(pruefungsnote)\n",
    "                    print(\"Abschlussnote: \", abschlussnote)\n",
    "                else:\n",
    "                    print(\"Ungültiges Wetter!\")\n",
    "            else:\n",
    "                print(\"Ungültige Frisur!\")\n",
    "        elif augenfarbe == 1:\n",
    "            wetter = int(input(\"Wetter (schön=1, nicht schön=0): \"))\n",
    "            if wetter in [0, 1]:\n",
    "                if wetter == 1:\n",
    "                    pruefungsnote -= 1\n",
    "                abschlussnote = round(pruefungsnote)\n",
    "                print(\"Abschlussnote: \", abschlussnote)\n",
    "    else: \n",
    "        print(\"Ungültige Augenfarbe!\")\n",
    "else:\n",
    "    print(\"Ungültige Prüfungsnote!\")"
   ]
  },
  {
   "cell_type": "markdown",
   "metadata": {},
   "source": [
    "## 13. Wer trinkt am meisten Kaffee?"
   ]
  },
  {
   "cell_type": "code",
   "execution_count": 16,
   "metadata": {},
   "outputs": [
    {
     "name": "stdout",
     "output_type": "stream",
     "text": [
      "Name: Eva\n",
      "1\n",
      "Name: Eva\n",
      "2\n",
      "Name: Peter\n",
      "1\n",
      "Name: Eva\n",
      "3\n",
      "Name: Feierabend\n",
      "kaffeeliste:  {'Peter': 1, 'Eva': 3, 'Franka': 0}\n"
     ]
    }
   ],
   "source": [
    "kaffeeliste = {\"Peter\": 0, \n",
    "               \"Eva\": 0, \n",
    "               \"Franka\": 0}\n",
    "while True:\n",
    "    name = input(\"Name: \")\n",
    "    if name == \"Feierabend\":\n",
    "        break\n",
    "    if name not in kaffeeliste:\n",
    "        print(\"Diese Person kenne ich nicht!\")\n",
    "        continue\n",
    "    kaffeeliste[name] += 1\n",
    "    print(kaffeeliste[name])\n",
    "    \n",
    "print(\"kaffeeliste: \", kaffeeliste)"
   ]
  },
  {
   "cell_type": "markdown",
   "metadata": {},
   "source": [
    "## 14. Welches Tier bist Du?"
   ]
  },
  {
   "cell_type": "code",
   "execution_count": 19,
   "metadata": {},
   "outputs": [
    {
     "name": "stdout",
     "output_type": "stream",
     "text": [
      "Welches Essen würdest du bevorzugen?\n",
      "0 : Fleisch\n",
      "1 : Obst\n",
      "2 : Gräser und Blätter\n",
      "3 : Alles Essbare\n",
      "Bitte gib deine Antwort (0, 1, 2 oder 3) ein: 1\n",
      "Welche Art von Film würdest du gerne sehen?\n",
      "0 : Action-Film\n",
      "1 : Komödie\n",
      "2 : Dokumentation\n",
      "3 : Fantasy-Film\n",
      "Bitte gib deine Antwort (0, 1, 2 oder 3) ein: 1\n",
      "Welche Aktivität gefällt dir am besten?\n",
      "0 : Sport treiben\n",
      "1 : Mit Freunden herumalbern\n",
      "2 : In der Natur sein\n",
      "3 : Ein gutes Buch lesen\n",
      "Bitte gib deine Antwort (0, 1, 2 oder 3) ein: 0\n",
      "Du bist ein Affe !\n"
     ]
    }
   ],
   "source": [
    "# Schritt 1: Erstelle ein Wörterbuch, um die Punktzahl für jedes Tier zu speichern\n",
    "punktzahl = {\"Löwe\": 0, \"Affe\": 0, \"Giraffe\": 0, \"Bär\": 0}\n",
    "mapping = {0:\"Löwe\", 1:\"Affe\", 2:\"Giraffe\",  3:\"Bär\"}\n",
    "\n",
    "# Schritt 2: Definiere eine Liste von Fragen und Antworten\n",
    "fragen = {\n",
    "    \"Welches Essen würdest du bevorzugen?\" : {0: \"Fleisch\", 1: \"Obst\", 2: \"Gräser und Blätter\", 3: \"Alles Essbare\"},\n",
    "    \"Welche Art von Film würdest du gerne sehen?\": {0: \"Action-Film\", 1: \"Komödie\", 2: \"Dokumentation\", 3: \"Fantasy-Film\"}, \n",
    "    \"Welche Aktivität gefällt dir am besten?\": {0: \"Sport treiben\", 1: \"Mit Freunden herumalbern\", 2: \"In der Natur sein\", 3: \"Ein gutes Buch lesen\"}\n",
    "}\n",
    "\n",
    "# Schritt 3: Stelle die Fragen und sammle die Antworten\n",
    "for frage in fragen:\n",
    "    print(frage)\n",
    "    for antwort in fragen[frage]:\n",
    "        print(antwort, \":\", fragen[frage][antwort])\n",
    "    antwort = int(input(\"Bitte gib deine Antwort (0, 1, 2 oder 3) ein: \"))\n",
    "    punktzahl[mapping[antwort]] += 1\n",
    "\n",
    "# Schritt 4: Bestimme das Tier mit der höchsten Punktzahl\n",
    "max_punktzahl = max(punktzahl, key=punktzahl.get)\n",
    "print(\"Du bist ein\", max_punktzahl, \"!\")"
   ]
  }
 ],
 "metadata": {
  "kernelspec": {
   "display_name": "Python 3",
   "language": "python",
   "name": "python3"
  },
  "language_info": {
   "codemirror_mode": {
    "name": "ipython",
    "version": 3
   },
   "file_extension": ".py",
   "mimetype": "text/x-python",
   "name": "python",
   "nbconvert_exporter": "python",
   "pygments_lexer": "ipython3",
   "version": "3.8.5"
  }
 },
 "nbformat": 4,
 "nbformat_minor": 4
}
