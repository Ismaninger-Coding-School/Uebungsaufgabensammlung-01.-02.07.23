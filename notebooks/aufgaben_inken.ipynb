{
 "cells": [
  {
   "cell_type": "markdown",
   "id": "938f1472",
   "metadata": {},
   "source": [
    "## 1. Summe berechnen\n",
    "\n",
    "Schreibe eine Funktion, die drei Zahlen als Parameter entgegen nimmt, ihre Summe berechnet und diese ausgibt."
   ]
  },
  {
   "cell_type": "code",
   "execution_count": null,
   "id": "218a527c",
   "metadata": {},
   "outputs": [],
   "source": []
  },
  {
   "cell_type": "markdown",
   "id": "ece8623e",
   "metadata": {},
   "source": [
    "## 2. Index finden\n",
    "\n",
    "Schreibe eine Funktion, die eine Liste mit Zahlen und eine einzelne Zahl als Argumente entgegennimmt. Gib dann den Index (also die Position der Zahl in der Liste) aus. Überlege dir dir selbst, was du ausgeben willst, sollte die Zahl nicht in der Liste sein.\n",
    "\n",
    "Beispiel: `index([9, 8, 1, 4, 2, 5], 8) → 1`"
   ]
  },
  {
   "cell_type": "code",
   "execution_count": null,
   "id": "fa700ee0",
   "metadata": {},
   "outputs": [],
   "source": []
  },
  {
   "cell_type": "markdown",
   "id": "1365171c",
   "metadata": {},
   "source": [
    "## 3. Spitznamengenerator\n",
    "\n",
    "Schreibe ein Programm, welches den Nutzer nach seinem Vor- und Nachnamen fragt. Dann generiere einen zufälligen Spitznamen für die Person und gib den neuen Namen folgendermaßen aus: \\<Vorname\\> \\<Spitzname\\> \\<Nachname\\>\n",
    "\n",
    "Tipps: Denk dir vorher 5-10 Spitznamen aus und speichere diese in einer Liste. Speichere Vor- und Nachname in zwei unterschiedlichen Variablen. Bevor du nach dem Namen fragst, erkläre den Nutzern das Spiel."
   ]
  },
  {
   "cell_type": "code",
   "execution_count": null,
   "id": "c3079cfb",
   "metadata": {},
   "outputs": [],
   "source": []
  },
  {
   "cell_type": "markdown",
   "id": "ac6a4548",
   "metadata": {},
   "source": [
    "## 4. Fehlende Zahl \n",
    "\n",
    "Schreibe eine Funktion, die eine Liste von Zahlen zwischen 1 und 10 annimmt. Eine Zahl zwischen 1 und 10 fehlt in der Liste. Die Funktion soll die fehlende Zahl zurückgeben.\n",
    "\n",
    "Beispiel: `fehlende_zahl([9, 8, 1, 4, 6, 7, 10, 2, 5]) → 3`"
   ]
  },
  {
   "cell_type": "code",
   "execution_count": null,
   "id": "86ea2937",
   "metadata": {},
   "outputs": [],
   "source": []
  },
  {
   "cell_type": "markdown",
   "id": "9dfa1362",
   "metadata": {},
   "source": [
    "## 5. Das Bauernhofproblem\n",
    "\n",
    "In dieser Aufgabe bittet dich ein Bauer, ihm zu sagen, wie viele Beine alle seine Tiere haben. Der Bauer züchtet drei Arten:\n",
    "\n",
    "- Hühner = 2 Beine\n",
    "- Kühe = 4 Beine\n",
    "- Schweine = 4 Beine\n",
    "\n",
    "Schreibe eine Funktion, die als erstes Argument die Anzahl der Hühner, als zweites Argument die Anzahl der Kühe und als drittes Argument die Anzahl der Schweine entgegennimmt. Die Funktion soll die Gesamtanzahl der Beine auf dem Bauernhof zurückgeben."
   ]
  },
  {
   "cell_type": "code",
   "execution_count": null,
   "id": "0e302914",
   "metadata": {},
   "outputs": [],
   "source": []
  },
  {
   "cell_type": "markdown",
   "id": "197694b3",
   "metadata": {},
   "source": [
    "## 6. Größte Differenz\n",
    "\n",
    "Schreibe eine Funktion, die eine Liste an Zahlen entgegennimmt. Die Funktion soll die Differenz zwischen der größten und der kleinsten Zahl zurückgeben. \n",
    "Tipp: Differenz bedeutet minus rechnen. Die Differenz zwischen 7 und 3 ist also 7-3=4.\n",
    "\n",
    "Beispiel: `groesste_differenz([1, 2, 3, 4]) → 3` (Weil die größte Zahl 4 ist und die kleinste Zahl 1 und 4-1=3)"
   ]
  },
  {
   "cell_type": "code",
   "execution_count": null,
   "id": "98e0f780",
   "metadata": {},
   "outputs": [],
   "source": []
  },
  {
   "cell_type": "markdown",
   "id": "4a6cd990",
   "metadata": {},
   "source": [
    "## 7. Welches Tier bist du?\n",
    "\n",
    "Programmiere ein Quiz, bei dem ein Nutzer herausfinden kann, welches Tier er ist. Das Quiz soll eine Reihe an Fragen stellen, wobei jede Frage vier mögliche Antworten hat und jede Antwort mit einem Tier verbunden sein soll. Am Ende des Quiz soll das Programm das Tier mit den meisten Punkten ausgeben. \n",
    "\n",
    "Erstelle dafür ein dictionary, bei dem die Schlüssel die Tiere sind, die du dir ausdenkst. Die Werte sind die Punkte; diese müssen am Anfang natürlich null sein. Bei jeder Antwort, die ein Nutzer gibt, wird einer dieser Werte um eins erhöht, abhängig davon zu welchem Tier die Antwort des Nutzers gehört. Du kannst dir gerne selbst Tiere ausdenken. Falls dir nichts einfällt, kannst du Löwe, Affe, Giraffe und Bär nehmen.\n",
    "\n",
    "Jetzt, da wir unser Punktzahl-Dictionary erstellt haben, ist es Zeit, die Fragen und Antworten zu erstellen. Denk dir Fragen und Antworten aus, die etwas mit den Tieren zu tun haben. Auch hier ist es hilfreich ein dictionary zu verwenden. Beispiel: \n",
    "\n",
    "Welches Essen würdest du bevorzugen?\n",
    "\n",
    "0 : Fleisch -> Löwe\\\n",
    "1 : Obst -> Affe\\\n",
    "2 : Gräser und Blätter -> Giraffe\\\n",
    "3 : Alles Essbare -> Bär\n",
    "\n",
    "\n",
    "\n"
   ]
  },
  {
   "cell_type": "code",
   "execution_count": null,
   "id": "432546af",
   "metadata": {},
   "outputs": [],
   "source": []
  }
 ],
 "metadata": {
  "kernelspec": {
   "display_name": "Python 3 (ipykernel)",
   "language": "python",
   "name": "python3"
  },
  "language_info": {
   "codemirror_mode": {
    "name": "ipython",
    "version": 3
   },
   "file_extension": ".py",
   "mimetype": "text/x-python",
   "name": "python",
   "nbconvert_exporter": "python",
   "pygments_lexer": "ipython3",
   "version": "3.11.4"
  }
 },
 "nbformat": 4,
 "nbformat_minor": 5
}
